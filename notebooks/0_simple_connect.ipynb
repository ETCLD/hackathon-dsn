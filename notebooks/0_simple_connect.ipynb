{
 "cells": [
  {
   "cell_type": "code",
   "execution_count": null,
   "id": "bda701d0",
   "metadata": {},
   "outputs": [],
   "source": [
    "import pandas as pd\n",
    "import psycopg2\n",
    "from dotenv import load_dotenv\n",
    "import os\n",
    "pd.options.display.max_rows = 1000\n",
    "pd.options.display.max_columns = 150"
   ]
  },
  {
   "cell_type": "code",
   "execution_count": null,
   "id": "a3a30c83",
   "metadata": {},
   "outputs": [],
   "source": [
    "load_dotenv()"
   ]
  },
  {
   "cell_type": "code",
   "execution_count": null,
   "id": "1822f3b1",
   "metadata": {},
   "outputs": [],
   "source": [
    "conn_string = (\n",
    "    f\"host={os.getenv('hostname')} \"\n",
    "    f\"dbname={os.getenv('database')} \"\n",
    "    f\"user={os.getenv('username')} \"\n",
    "    f\"password={os.getenv('password')} \"\n",
    "    f\"port={os.getenv('port')}\"\n",
    ")"
   ]
  },
  {
   "cell_type": "code",
   "execution_count": null,
   "id": "992d5300",
   "metadata": {},
   "outputs": [],
   "source": [
    "conn = psycopg2.connect(conn_string)"
   ]
  },
  {
   "cell_type": "code",
   "execution_count": null,
   "id": "271da13c",
   "metadata": {},
   "outputs": [],
   "source": [
    "cursor = conn.cursor()"
   ]
  },
  {
   "cell_type": "code",
   "execution_count": null,
   "id": "da607c97",
   "metadata": {},
   "outputs": [],
   "source": [
    "schema_name = \"public,dadeh\""
   ]
  },
  {
   "cell_type": "code",
   "execution_count": null,
   "id": "a21f58e0",
   "metadata": {},
   "outputs": [],
   "source": [
    "cursor.execute(f\"SET search_path TO {schema_name}\")"
   ]
  },
  {
   "cell_type": "code",
   "execution_count": null,
   "id": "9cad50de",
   "metadata": {},
   "outputs": [],
   "source": [
    "query = \"select * from ddadtcontrat limit 10;\""
   ]
  },
  {
   "cell_type": "code",
   "execution_count": null,
   "id": "35bc2060",
   "metadata": {},
   "outputs": [],
   "source": [
    "df = pd.read_sql_query(query, conn)"
   ]
  },
  {
   "cell_type": "code",
   "execution_count": null,
   "id": "7c91e0f1",
   "metadata": {},
   "outputs": [],
   "source": [
    "df"
   ]
  },
  {
   "cell_type": "code",
   "execution_count": null,
   "id": "0a03ed5e",
   "metadata": {},
   "outputs": [],
   "source": []
  }
 ],
 "metadata": {
  "kernelspec": {
   "display_name": "Python 3 (ipykernel)",
   "language": "python",
   "name": "python3"
  },
  "language_info": {
   "codemirror_mode": {
    "name": "ipython",
    "version": 3
   },
   "file_extension": ".py",
   "mimetype": "text/x-python",
   "name": "python",
   "nbconvert_exporter": "python",
   "pygments_lexer": "ipython3",
   "version": "3.8.12"
  }
 },
 "nbformat": 4,
 "nbformat_minor": 5
}
