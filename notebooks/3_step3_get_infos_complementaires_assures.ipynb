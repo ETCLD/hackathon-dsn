{
 "cells": [
  {
   "cell_type": "code",
   "execution_count": null,
   "id": "bda701d0",
   "metadata": {},
   "outputs": [],
   "source": [
    "import pandas as pd\n",
    "import psycopg2\n",
    "from dotenv import load_dotenv\n",
    "import os\n",
    "pd.options.display.max_rows = 1000\n",
    "pd.options.display.max_columns = 150"
   ]
  },
  {
   "cell_type": "code",
   "execution_count": null,
   "id": "a3a30c83",
   "metadata": {},
   "outputs": [],
   "source": [
    "load_dotenv()"
   ]
  },
  {
   "cell_type": "code",
   "execution_count": null,
   "id": "1822f3b1",
   "metadata": {},
   "outputs": [],
   "source": [
    "conn_string = (\n",
    "    f\"host={os.getenv('hostname')} \"\n",
    "    f\"dbname={os.getenv('database')} \"\n",
    "    f\"user={os.getenv('username')} \"\n",
    "    f\"password={os.getenv('password')} \"\n",
    "    f\"port={os.getenv('port')}\"\n",
    ")"
   ]
  },
  {
   "cell_type": "code",
   "execution_count": null,
   "id": "992d5300",
   "metadata": {},
   "outputs": [],
   "source": [
    "conn = psycopg2.connect(conn_string)"
   ]
  },
  {
   "cell_type": "code",
   "execution_count": null,
   "id": "271da13c",
   "metadata": {},
   "outputs": [],
   "source": [
    "cursor = conn.cursor()"
   ]
  },
  {
   "cell_type": "code",
   "execution_count": null,
   "id": "da607c97",
   "metadata": {},
   "outputs": [],
   "source": [
    "schema_name = \"public,dadeh\""
   ]
  },
  {
   "cell_type": "code",
   "execution_count": null,
   "id": "a21f58e0",
   "metadata": {},
   "outputs": [],
   "source": [
    "cursor.execute(f\"SET search_path TO {schema_name}\")"
   ]
  },
  {
   "cell_type": "code",
   "execution_count": null,
   "id": "f899a405",
   "metadata": {},
   "outputs": [],
   "source": [
    "df = pd.read_csv(\"contrat_inseres_employeurs.csv\", dtype=str)"
   ]
  },
  {
   "cell_type": "code",
   "execution_count": null,
   "id": "e8b3d42f",
   "metadata": {},
   "outputs": [],
   "source": [
    "assures = list(df[\"id_assure\"].unique())"
   ]
  },
  {
   "cell_type": "code",
   "execution_count": null,
   "id": "0883004c",
   "metadata": {},
   "outputs": [],
   "source": [
    "len(assures)"
   ]
  },
  {
   "cell_type": "code",
   "execution_count": null,
   "id": "bb5c3f07",
   "metadata": {},
   "outputs": [],
   "source": [
    "dfa = pd.DataFrame([])"
   ]
  },
  {
   "cell_type": "code",
   "execution_count": null,
   "id": "b6cb3fe9",
   "metadata": {},
   "outputs": [],
   "source": [
    "i = 0\n",
    "cpt = 0\n",
    "for ass in assures:\n",
    "    if cpt == 0:\n",
    "        str_as = \"\"\n",
    "    cpt += 1\n",
    "    str_as += \"id = \" + ass + \" OR \"\n",
    "    if cpt == 100:\n",
    "        # send\n",
    "        str_as = str_as[:-3]\n",
    "        query = (\n",
    "            \"select id, num_immatriculation, date_naissance, code_departement_naissance \"\n",
    "            \"from ddadtassure where \" + str_as\n",
    "        )\n",
    "        dfinter = pd.read_sql_query(query, conn)\n",
    "        dfa = pd.concat([dfa, dfinter])\n",
    "        cpt = 0\n",
    "        i = i + 1\n",
    "        print(i * 100)"
   ]
  },
  {
   "cell_type": "code",
   "execution_count": null,
   "id": "aa4d4b40",
   "metadata": {},
   "outputs": [],
   "source": [
    "dfa"
   ]
  },
  {
   "cell_type": "code",
   "execution_count": null,
   "id": "73a8e9cd",
   "metadata": {},
   "outputs": [],
   "source": [
    "dfa = dfa.rename(columns={\"id\": \"id_assure\"})"
   ]
  },
  {
   "cell_type": "code",
   "execution_count": null,
   "id": "e5e25c79",
   "metadata": {},
   "outputs": [],
   "source": [
    "dfa.to_csv(\"assures_inseres.csv\", index=False)"
   ]
  },
  {
   "cell_type": "code",
   "execution_count": null,
   "id": "c99fe1fe",
   "metadata": {},
   "outputs": [],
   "source": [
    "dfa = pd.read_csv(\"assures_inseres.csv\", dtype=str)"
   ]
  },
  {
   "cell_type": "code",
   "execution_count": null,
   "id": "ad262934",
   "metadata": {},
   "outputs": [],
   "source": [
    "dfa"
   ]
  },
  {
   "cell_type": "code",
   "execution_count": null,
   "id": "18cbc1ef",
   "metadata": {},
   "outputs": [],
   "source": [
    "df = pd.merge(df, dfa, on=\"id_assure\", how=\"left\")"
   ]
  },
  {
   "cell_type": "code",
   "execution_count": null,
   "id": "da8f5a9d",
   "metadata": {},
   "outputs": [],
   "source": [
    "df[\"sexe_assure\"] = df[\"num_immatriculation\"].apply(lambda x: x[0] if x == x else None)"
   ]
  },
  {
   "cell_type": "code",
   "execution_count": null,
   "id": "d5e112ce",
   "metadata": {},
   "outputs": [],
   "source": [
    "df.to_csv(\"contrat_inseres_employeurs_assures.csv\", index=False)"
   ]
  },
  {
   "cell_type": "code",
   "execution_count": null,
   "id": "39b32dcf",
   "metadata": {},
   "outputs": [],
   "source": [
    "df = pd.read_csv(\"contrat_inseres_employeurs_assures.csv\", dtype=str)"
   ]
  },
  {
   "cell_type": "code",
   "execution_count": null,
   "id": "9cd452ea",
   "metadata": {},
   "outputs": [],
   "source": [
    "employeursassures = list(df[\"id_employeur_assure\"].unique())"
   ]
  },
  {
   "cell_type": "code",
   "execution_count": null,
   "id": "f6f0a68b",
   "metadata": {},
   "outputs": [],
   "source": [
    "len(employeursassures)"
   ]
  },
  {
   "cell_type": "code",
   "execution_count": null,
   "id": "ce030bd8",
   "metadata": {},
   "outputs": [],
   "source": [
    "dfa = pd.DataFrame([])"
   ]
  },
  {
   "cell_type": "code",
   "execution_count": null,
   "id": "cadf2620",
   "metadata": {},
   "outputs": [],
   "source": [
    "df = pd.merge(df, dfa, on=\"id_employeur_assure\", how=\"left\")"
   ]
  },
  {
   "cell_type": "code",
   "execution_count": null,
   "id": "18f83aac",
   "metadata": {},
   "outputs": [],
   "source": [
    "df.to_csv(\"complet_J1_1850.csv\", index=False)"
   ]
  }
 ],
 "metadata": {
  "kernelspec": {
   "display_name": "Python 3 (ipykernel)",
   "language": "python",
   "name": "python3"
  },
  "language_info": {
   "codemirror_mode": {
    "name": "ipython",
    "version": 3
   },
   "file_extension": ".py",
   "mimetype": "text/x-python",
   "name": "python",
   "nbconvert_exporter": "python",
   "pygments_lexer": "ipython3",
   "version": "3.8.12"
  }
 },
 "nbformat": 4,
 "nbformat_minor": 5
}
