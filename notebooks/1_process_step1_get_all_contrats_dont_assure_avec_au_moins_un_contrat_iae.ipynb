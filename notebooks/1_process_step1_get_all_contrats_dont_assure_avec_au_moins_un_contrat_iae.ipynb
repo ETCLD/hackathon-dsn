{
 "cells": [
  {
   "cell_type": "code",
   "execution_count": null,
   "id": "bda701d0",
   "metadata": {},
   "outputs": [],
   "source": [
    "import pandas as pd\n",
    "import psycopg2\n",
    "from dotenv import load_dotenv\n",
    "import os\n",
    "pd.options.display.max_rows = 1000\n",
    "pd.options.display.max_columns = 150"
   ]
  },
  {
   "cell_type": "code",
   "execution_count": null,
   "id": "a3a30c83",
   "metadata": {},
   "outputs": [],
   "source": [
    "load_dotenv()"
   ]
  },
  {
   "cell_type": "code",
   "execution_count": null,
   "id": "1822f3b1",
   "metadata": {},
   "outputs": [],
   "source": [
    "conn_string = (\n",
    "    f\"host={os.getenv('hostname')} \"\n",
    "    f\"dbname={os.getenv('database')} \"\n",
    "    f\"user={os.getenv('username')} \"\n",
    "    f\"password={os.getenv('password')} \"\n",
    "    f\"port={os.getenv('port')}\"\n",
    ")"
   ]
  },
  {
   "cell_type": "code",
   "execution_count": null,
   "id": "992d5300",
   "metadata": {},
   "outputs": [],
   "source": [
    "conn = psycopg2.connect(conn_string)"
   ]
  },
  {
   "cell_type": "code",
   "execution_count": null,
   "id": "271da13c",
   "metadata": {},
   "outputs": [],
   "source": [
    "cursor = conn.cursor()"
   ]
  },
  {
   "cell_type": "code",
   "execution_count": null,
   "id": "da607c97",
   "metadata": {},
   "outputs": [],
   "source": [
    "schema_name = \"public,dadeh\""
   ]
  },
  {
   "cell_type": "code",
   "execution_count": null,
   "id": "a21f58e0",
   "metadata": {},
   "outputs": [],
   "source": [
    "cursor.execute(f\"SET search_path TO {schema_name}\")"
   ]
  },
  {
   "cell_type": "code",
   "execution_count": null,
   "id": "20c2c224",
   "metadata": {},
   "outputs": [],
   "source": [
    "complement_dispositif_public = []\n",
    "for i in range(2,8):\n",
    "    complement_dispositif_public.append(\"0\" + str(i))"
   ]
  },
  {
   "cell_type": "code",
   "execution_count": null,
   "id": "d425278c",
   "metadata": {},
   "outputs": [],
   "source": [
    "complement_dispositif_public"
   ]
  },
  {
   "cell_type": "code",
   "execution_count": null,
   "id": "f86fd939",
   "metadata": {},
   "outputs": [],
   "source": [
    "counts_dispositif = []\n",
    "for cdp in complement_dispositif_public:\n",
    "    print(cdp)\n",
    "    mydict = {}\n",
    "    mydict[\"cdp\"] = cdp\n",
    "    query = f\"select count(*) from ddadtcontrat where complement_dispositif_public = '{cdp}';\"\n",
    "    df = pd.read_sql_query(query, conn)\n",
    "    mydict[\"count\"] = df[\"count\"].iloc[0]\n",
    "    counts_dispositif.append(mydict)"
   ]
  },
  {
   "cell_type": "code",
   "execution_count": null,
   "id": "429674bf",
   "metadata": {},
   "outputs": [],
   "source": [
    "counts_dispositif[:1]"
   ]
  },
  {
   "cell_type": "code",
   "execution_count": null,
   "id": "b34e5862",
   "metadata": {},
   "outputs": [],
   "source": [
    "df.shape"
   ]
  },
  {
   "cell_type": "code",
   "execution_count": null,
   "id": "4d22e114",
   "metadata": {},
   "outputs": [],
   "source": [
    "counts_dispositif"
   ]
  },
  {
   "cell_type": "code",
   "execution_count": null,
   "id": "2a129309",
   "metadata": {},
   "outputs": [],
   "source": [
    "counts_dispositif[1:]"
   ]
  },
  {
   "cell_type": "code",
   "execution_count": null,
   "id": "9630ab73",
   "metadata": {},
   "outputs": [],
   "source": [
    "for cd in counts_dispositif[1:]:\n",
    "    print(cd[\"cdp\"])\n",
    "    df = pd.DataFrame([])\n",
    "    query = (\n",
    "        \"select * from ddadtcontrat where complement_dispositif_public = '\" + \\\n",
    "        cd['cdp'] + \"';\"\n",
    "    )\n",
    "    df = pd.read_sql_query(query, conn)\n",
    "    df.to_csv(\"cdp_\" + cd[\"cdp\"] + \".csv\", index=False)"
   ]
  },
  {
   "cell_type": "code",
   "execution_count": null,
   "id": "af8a18b1",
   "metadata": {},
   "outputs": [],
   "source": [
    "for cd in counts_dispositif:\n",
    "    print(cd[\"cdp\"])\n",
    "    df = pd.DataFrame([])\n",
    "    query = (\n",
    "        \"select c.id, c.id_employeur_assure, ea.id_assure, ea.id_employeur from ddadtcontrat c \" \n",
    "        \"left join dadeh.ddadtemployeur_assure ea on ea.id = c.id_employeur_assure \"\n",
    "        \"where c.complement_dispositif_public = '\" + cd[\"cdp\"] + \"';\"\n",
    "    )\n",
    "    df = pd.read_sql_query(query, conn)\n",
    "    df.to_csv(\"cdp_join_\" + cd[\"cdp\"] + \".csv\", index=False)"
   ]
  },
  {
   "cell_type": "code",
   "execution_count": null,
   "id": "7c91e0f1",
   "metadata": {},
   "outputs": [],
   "source": [
    "df = pd.DataFrame([])\n",
    "df2 = pd.DataFrame([])\n",
    "for cd in counts_dispositif:\n",
    "    dfinter = pd.read_csv(\"cdp_\" + cd[\"cdp\"] + \".csv\", dtype=str)\n",
    "    dfinter2 = pd.read_csv(\"cdp_join_\" + cd[\"cdp\"] + \".csv\", dtype=str)\n",
    "    df = pd.concat([df, dfinter])\n",
    "    df2 = pd.concat([df2, dfinter2])"
   ]
  },
  {
   "cell_type": "code",
   "execution_count": null,
   "id": "6088335b",
   "metadata": {},
   "outputs": [],
   "source": [
    "df"
   ]
  },
  {
   "cell_type": "code",
   "execution_count": null,
   "id": "0a03ed5e",
   "metadata": {},
   "outputs": [],
   "source": [
    "df = pd.merge(df, df2[[\"id_employeur_assure\", \"id_assure\", \"id_employeur\"]], how=\"left\", on=\"id_employeur_assure\")"
   ]
  },
  {
   "cell_type": "code",
   "execution_count": null,
   "id": "246108ca",
   "metadata": {},
   "outputs": [],
   "source": [
    "df.to_csv(\"cdp_global.csv\", index=False)"
   ]
  },
  {
   "cell_type": "code",
   "execution_count": null,
   "id": "a4b9ad23",
   "metadata": {},
   "outputs": [],
   "source": [
    "df.id_assure.nunique()"
   ]
  },
  {
   "cell_type": "code",
   "execution_count": null,
   "id": "c9b9e7c8",
   "metadata": {},
   "outputs": [],
   "source": [
    "assures_insertion = list(df.id_assure.unique())"
   ]
  },
  {
   "cell_type": "code",
   "execution_count": null,
   "id": "b40c88f3",
   "metadata": {},
   "outputs": [],
   "source": [
    "len(assures_insertion)"
   ]
  },
  {
   "cell_type": "code",
   "execution_count": null,
   "id": "e34ada71",
   "metadata": {},
   "outputs": [],
   "source": [
    "dfc = pd.DataFrame([])"
   ]
  },
  {
   "cell_type": "code",
   "execution_count": null,
   "id": "5dcd6da7",
   "metadata": {},
   "outputs": [],
   "source": [
    "i = 0\n",
    "cpt = 0\n",
    "for em in employeurs:\n",
    "    if cpt == 0:\n",
    "        str_em = \"\"\n",
    "    cpt += 1\n",
    "    str_em += \"id = \" + em + \" OR \"\n",
    "    if cpt == 100:\n",
    "        # send\n",
    "        str_em = str_em[:-3]\n",
    "        query = (\n",
    "            \"select id, et_code_apet, et_ad_code_postal, et_categorie_juridique, \"\n",
    "            \"et_effectif_fin_periode, en_code_apen, en_ad_code_postal, en_effectif_moyen \"\n",
    "            \"from ddadtemployeur where \" + str_em\n",
    "        )\n",
    "        dfinter = pd.read_sql_query(query, conn)\n",
    "        dfe = pd.concat([dfe, dfinter])\n",
    "        cpt = 0\n",
    "        i = i + 1\n",
    "        print(i * 100)"
   ]
  },
  {
   "cell_type": "code",
   "execution_count": null,
   "id": "97873b48",
   "metadata": {},
   "outputs": [],
   "source": [
    "i = 0\n",
    "cpt = 0\n",
    "for ai in assures_insertion[28115:]:\n",
    "    if cpt == 0:\n",
    "        str_ai = \"\"\n",
    "    cpt += 1\n",
    "    str_ai += \"ea.id_assure = \" + ai + \" OR \"\n",
    "    if cpt == 100:\n",
    "        str_ai = str_ai[:-3]\n",
    "        query = (\n",
    "            \"select c.id, c.id_employeur_assure, c.date_debut_contrat, c.statut_conventionnel, \"\n",
    "            \"c.statut_rc, c.pcs_ese, c.code_complement_pcs_ese, c.libelle_emploi, c.nature_contrat, \"\n",
    "            \"c.dispositif_politique, c.num_contrat, c.date_fin_previsionnelle, c.unite_mesure, \"\n",
    "            \"c.quotite_categorie, c.quotite, c.modalite_temps, c.complement_base, c.ccn, c.regime_maladie, \"\n",
    "            \"c.id_lieu_travail, c.regime_vieillesse, c.motif_recours, c.code_caisse_conges_payes, \"\n",
    "            \"c.travailleur_etranger, c.taux_frais_professionnels, c.statut_emploi, c.motif_exclusion_dsn, \"\n",
    "            \"c.code_affectation_ac, c.num_interne, c.type_gestion_ac, c.date_adhesion, \"\n",
    "            \"c.date_convention_gestion, c.num_convention_gestion, c.code_gestionnaire_risque, c.code_metier, \"\n",
    "            \"c.regime_risque_accident_travail, c.code_risque_accident_travail, c.positionnement_cc, \"\n",
    "            \"c.code_statut_categoriel_apecita, c.taux_accident_travail, c.salarie_tpartiel_cotis_tplein, \"\n",
    "            \"c.remuneration_pourboir, c.id_lieu_etab_utilisateur, c.num_certification_sociale, c.num_label, \"\n",
    "            \"c.num_licence_entrep_spectacle, c.num_objet_spectacle, c.statut_organisateur_spectacle, \"\n",
    "            \"c.date_fin_contrat, c.motif_rupture, c.dernier_jour_travaille, c.date_dernieres_infos, \"\n",
    "            \"c.mod_decl_fin_cont_usage, c.activite_partielle, c.statut_boeth, c.mise_a_dispo_ext, \"\n",
    "            \"c.cat_classement_finale, c.college_cnieg, c.complement_dispositif_public, c.id_contrat_em, \"\n",
    "            \"c.mois_declaration, c.grade, c.finess_geographique, c.echelon, c.coef_hierarchique, \"\n",
    "            \"c.flag_traitement_vue_donnee, ea.id_assure, ea.id_employeur \"\n",
    "            \"from ddadtcontrat c \"\n",
    "            \"left join dadeh.ddadtemployeur_assure ea \"\n",
    "            \"on ea.id = c.id_employeur_assure \"\n",
    "            \"where \" + str_ai + \";\"\n",
    "        )\n",
    "        dfinter = pd.read_sql_query(query, conn)\n",
    "        dfc = pd.concat([dfc, dfinter])        \n",
    "        cpt = 0\n",
    "        i = i + 1\n",
    "        print(28115 + i * 100)"
   ]
  },
  {
   "cell_type": "code",
   "execution_count": null,
   "id": "0d6f3c5c",
   "metadata": {},
   "outputs": [],
   "source": [
    "str_ai = str_ai[:-3]\n",
    "query = (\n",
    "    \"select c.id, c.id_employeur_assure, c.date_debut_contrat, c.statut_conventionnel, \"\n",
    "    \"c.statut_rc, c.pcs_ese, c.code_complement_pcs_ese, c.libelle_emploi, c.nature_contrat, \"\n",
    "    \"c.dispositif_politique, c.num_contrat, c.date_fin_previsionnelle, c.unite_mesure, \"\n",
    "    \"c.quotite_categorie, c.quotite, c.modalite_temps, c.complement_base, c.ccn, c.regime_maladie, \"\n",
    "    \"c.id_lieu_travail, c.regime_vieillesse, c.motif_recours, c.code_caisse_conges_payes, \"\n",
    "    \"c.travailleur_etranger, c.taux_frais_professionnels, c.statut_emploi, c.motif_exclusion_dsn, \"\n",
    "    \"c.code_affectation_ac, c.num_interne, c.type_gestion_ac, c.date_adhesion, \"\n",
    "    \"c.date_convention_gestion, c.num_convention_gestion, c.code_gestionnaire_risque, c.code_metier, \"\n",
    "    \"c.regime_risque_accident_travail, c.code_risque_accident_travail, c.positionnement_cc, \"\n",
    "    \"c.code_statut_categoriel_apecita, c.taux_accident_travail, c.salarie_tpartiel_cotis_tplein, \"\n",
    "    \"c.remuneration_pourboir, c.id_lieu_etab_utilisateur, c.num_certification_sociale, c.num_label, \"\n",
    "    \"c.num_licence_entrep_spectacle, c.num_objet_spectacle, c.statut_organisateur_spectacle, \"\n",
    "    \"c.date_fin_contrat, c.motif_rupture, c.dernier_jour_travaille, c.date_dernieres_infos, \"\n",
    "    \"c.mod_decl_fin_cont_usage, c.activite_partielle, c.statut_boeth, c.mise_a_dispo_ext, \"\n",
    "    \"c.cat_classement_finale, c.college_cnieg, c.complement_dispositif_public, c.id_contrat_em, \"\n",
    "    \"c.mois_declaration, c.grade, c.finess_geographique, c.echelon, c.coef_hierarchique, \"\n",
    "    \"c.flag_traitement_vue_donnee, ea.id_assure, ea.id_employeur \"\n",
    "    \"from ddadtcontrat c \"\n",
    "    \"left join dadeh.ddadtemployeur_assure ea \"\n",
    "    \"on ea.id = c.id_employeur_assure \"\n",
    "    \"where \" + str_ai + \";\"\n",
    ")\n",
    "dfinter = pd.read_sql_query(query, conn)\n",
    "dfc = pd.concat([dfc, dfinter])"
   ]
  },
  {
   "cell_type": "code",
   "execution_count": null,
   "id": "5e26d8c2",
   "metadata": {},
   "outputs": [],
   "source": [
    "dfc.shape"
   ]
  },
  {
   "cell_type": "code",
   "execution_count": null,
   "id": "509b3137",
   "metadata": {},
   "outputs": [],
   "source": [
    "dfc.to_csv(\"contrat_inseres.csv\", index=False)"
   ]
  }
 ],
 "metadata": {
  "kernelspec": {
   "display_name": "Python 3 (ipykernel)",
   "language": "python",
   "name": "python3"
  },
  "language_info": {
   "codemirror_mode": {
    "name": "ipython",
    "version": 3
   },
   "file_extension": ".py",
   "mimetype": "text/x-python",
   "name": "python",
   "nbconvert_exporter": "python",
   "pygments_lexer": "ipython3",
   "version": "3.8.12"
  }
 },
 "nbformat": 4,
 "nbformat_minor": 5
}
