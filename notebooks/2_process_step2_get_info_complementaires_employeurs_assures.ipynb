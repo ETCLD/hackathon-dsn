{
 "cells": [
  {
   "cell_type": "code",
   "execution_count": null,
   "id": "bda701d0",
   "metadata": {},
   "outputs": [],
   "source": [
    "import pandas as pd\n",
    "import psycopg2\n",
    "from dotenv import load_dotenv\n",
    "import os\n",
    "pd.options.display.max_rows = 1000\n",
    "pd.options.display.max_columns = 150"
   ]
  },
  {
   "cell_type": "code",
   "execution_count": null,
   "id": "a3a30c83",
   "metadata": {},
   "outputs": [],
   "source": [
    "load_dotenv()"
   ]
  },
  {
   "cell_type": "code",
   "execution_count": null,
   "id": "1822f3b1",
   "metadata": {},
   "outputs": [],
   "source": [
    "conn_string = (\n",
    "    f\"host={os.getenv('hostname')} \"\n",
    "    f\"dbname={os.getenv('database')} \"\n",
    "    f\"user={os.getenv('username')} \"\n",
    "    f\"password={os.getenv('password')} \"\n",
    "    f\"port={os.getenv('port')}\"\n",
    ")"
   ]
  },
  {
   "cell_type": "code",
   "execution_count": null,
   "id": "992d5300",
   "metadata": {},
   "outputs": [],
   "source": [
    "conn = psycopg2.connect(conn_string)"
   ]
  },
  {
   "cell_type": "code",
   "execution_count": null,
   "id": "271da13c",
   "metadata": {},
   "outputs": [],
   "source": [
    "cursor = conn.cursor()"
   ]
  },
  {
   "cell_type": "code",
   "execution_count": null,
   "id": "da607c97",
   "metadata": {},
   "outputs": [],
   "source": [
    "schema_name = \"public,dadeh\""
   ]
  },
  {
   "cell_type": "code",
   "execution_count": null,
   "id": "a21f58e0",
   "metadata": {},
   "outputs": [],
   "source": [
    "cursor.execute(f\"SET search_path TO {schema_name}\")"
   ]
  },
  {
   "cell_type": "code",
   "execution_count": null,
   "id": "f899a405",
   "metadata": {},
   "outputs": [],
   "source": [
    "df = pd.read_csv(\"contrat_inseres.csv\", dtype=str)"
   ]
  },
  {
   "cell_type": "code",
   "execution_count": null,
   "id": "e8b3d42f",
   "metadata": {},
   "outputs": [],
   "source": [
    "employeurs = list(df[\"id_employeur\"].unique())"
   ]
  },
  {
   "cell_type": "code",
   "execution_count": null,
   "id": "bb5c3f07",
   "metadata": {},
   "outputs": [],
   "source": [
    "dfe = pd.DataFrame([])"
   ]
  },
  {
   "cell_type": "code",
   "execution_count": null,
   "id": "b6cb3fe9",
   "metadata": {},
   "outputs": [],
   "source": [
    "i = 0\n",
    "cpt = 0\n",
    "for em in employeurs:\n",
    "    if cpt == 0:\n",
    "        str_em = \"\"\n",
    "    cpt += 1\n",
    "    str_em += \"id = \" + em + \" OR \"\n",
    "    if cpt == 100:\n",
    "        # send\n",
    "        str_em = str_em[:-3]\n",
    "        query = (\n",
    "            \"select id, et_code_apet, et_ad_code_postal, et_categorie_juridique, \"\n",
    "            \"et_effectif_fin_periode, en_code_apen, en_ad_code_postal, en_effectif_moyen \"\n",
    "            \"from ddadtemployeur where \" + str_em\n",
    "        )\n",
    "        dfinter = pd.read_sql_query(query, conn)\n",
    "        dfe = pd.concat([dfe, dfinter])\n",
    "        cpt = 0\n",
    "        i = i + 1\n",
    "        print(i * 100)"
   ]
  },
  {
   "cell_type": "code",
   "execution_count": null,
   "id": "aa4d4b40",
   "metadata": {},
   "outputs": [],
   "source": [
    "dfe"
   ]
  },
  {
   "cell_type": "code",
   "execution_count": null,
   "id": "73a8e9cd",
   "metadata": {},
   "outputs": [],
   "source": [
    "dfe = dfe.rename(columns={\"id\": \"id_employeur\"})"
   ]
  },
  {
   "cell_type": "code",
   "execution_count": null,
   "id": "e5e25c79",
   "metadata": {},
   "outputs": [],
   "source": [
    "dfe.to_csv(\"employeurs_inseres.csv\", index=False)"
   ]
  },
  {
   "cell_type": "code",
   "execution_count": null,
   "id": "c99fe1fe",
   "metadata": {},
   "outputs": [],
   "source": [
    "dfe = pd.read_csv(\"employeurs_inseres.csv\", dtype=str)"
   ]
  },
  {
   "cell_type": "code",
   "execution_count": null,
   "id": "18cbc1ef",
   "metadata": {},
   "outputs": [],
   "source": [
    "df = pd.merge(df, dfe, on=\"id_employeur\", how=\"left\")"
   ]
  },
  {
   "cell_type": "code",
   "execution_count": null,
   "id": "d5e112ce",
   "metadata": {},
   "outputs": [],
   "source": [
    "df.to_csv(\"contrat_inseres_employeurs.csv\", index=False)"
   ]
  }
 ],
 "metadata": {
  "kernelspec": {
   "display_name": "Python 3 (ipykernel)",
   "language": "python",
   "name": "python3"
  },
  "language_info": {
   "codemirror_mode": {
    "name": "ipython",
    "version": 3
   },
   "file_extension": ".py",
   "mimetype": "text/x-python",
   "name": "python",
   "nbconvert_exporter": "python",
   "pygments_lexer": "ipython3",
   "version": "3.8.12"
  }
 },
 "nbformat": 4,
 "nbformat_minor": 5
}
